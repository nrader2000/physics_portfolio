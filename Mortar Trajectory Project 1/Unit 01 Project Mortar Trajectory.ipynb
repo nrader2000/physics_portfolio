{
 "cells": [
  {
   "cell_type": "markdown",
   "metadata": {},
   "source": [
    "# Unit 01 Project: Mortar Trajectory"
   ]
  },
  {
   "cell_type": "markdown",
   "metadata": {},
   "source": [
    "For our second project this semester, I decided to model Mortar Trajectory because I have always been fascinated in trajectory physics and a good simulation would be with Mortars! I used ODE solvers to determine the postion & velocity of the mortar in each time step from its launch. The user of the program will also have the choice to change the starting speed as well as the angle on launch."
   ]
  },
  {
   "cell_type": "markdown",
   "metadata": {},
   "source": [
    "#### For my ODE's, I am using these 3 to solve for the linear motion of the mortars's X and Y and Z positions and velocites."
   ]
  },
  {
   "cell_type": "markdown",
   "metadata": {},
   "source": [
    "$$\\frac{dx}{dt} = v_x \\qquad \\frac{dy}{dt} = v_y \\qquad \\frac{dz}{dt} = v_z$$\n",
    "\n",
    "$$\\frac{d v_x}{dt} = \\frac{F_{net,x}}{m} \\qquad \\frac{d v_y}{dt} = \\frac{F_{net,y}}{m} \\qquad \\frac{d v_y}{dt} = \\frac{F_{net,y}}{m}$$"
   ]
  },
  {
   "cell_type": "markdown",
   "metadata": {},
   "source": [
    "For our x-velocity/position, we will be simulating air resistence in the x-direction as our opposing force. Meanwhile our y velocity/position would be affected by the force of gravity by earth as well as air resistence in the y-direction. Our z-velocity/direction is just there. Now lets get to the code shall we!?"
   ]
  },
  {
   "cell_type": "markdown",
   "metadata": {},
   "source": [
    "## The Code"
   ]
  },
  {
   "cell_type": "markdown",
   "metadata": {},
   "source": [
    "*P.S: All markdown pieces of text describe the block of code above them*"
   ]
  },
  {
   "cell_type": "code",
   "execution_count": 3,
   "metadata": {},
   "outputs": [],
   "source": [
    "import compy.ode as ode\n",
    "#import ode #incase compy.ode does not work for your computer \n",
    "import numpy as np\n",
    "import matplotlib.pyplot as plt"
   ]
  },
  {
   "cell_type": "markdown",
   "metadata": {},
   "source": [
    "First we are doing our import statements, half of our program would not work without them! Feel free to execute this block of code to follow along, It is indeed functional!"
   ]
  },
  {
   "cell_type": "code",
   "execution_count": 2,
   "metadata": {},
   "outputs": [
    {
     "name": "stdout",
     "output_type": "stream",
     "text": [
      "Enter an angle of launch(will be comverted to Radians): 80\n",
      "Enter a launch speed(will be converted to m/s): 1000\n"
     ]
    }
   ],
   "source": [
    "#independent variables\n",
    "m = 20 \n",
    "g = 9.8 #N/kg \n",
    "Fnety = m * g\n",
    "thetadeg = input(\"Enter an angle of launch(will be comverted to Radians): \")\n",
    "theta0 = int(thetadeg)*(np.pi/180) \n",
    "Cdrag = 0.5 #drag coefficeint\n",
    "r = (81e-3)/2 #81 mm radius for presicion mortar\n",
    "A = np.pi*r**2 #area of mortar \n",
    "rho = 1.2 #kg/m^3\n",
    "b2 = 1/2*Cdrag*rho*A #drag with wind resistance\n",
    "vmag0mph = input(\"Enter a launch speed(will be converted to m/s): \") #mph\n",
    "vmag0 = int(vmag0mph) * 0.44704 #convert to m/s\n",
    "\n",
    "#dependent variables\n",
    "x0 = 0\n",
    "vx0 = vmag0*np.cos(theta0) \n",
    "y0 = 30\n",
    "vy0 = vmag0*np.sin(theta0)\n",
    "z0 = 0\n",
    "vz0 = 0\n",
    "\n",
    "data = np.array([x0,y0,z0,vx0,vy0,vz0]) #initialize dependent variables\n",
    "\n",
    "#independent variable/time stuff\n",
    "t = 0\n",
    "h = 0.01\n",
    "Nsteps = int(30/h) #N steps for N seconds of evolution"
   ]
  },
  {
   "cell_type": "markdown",
   "metadata": {},
   "source": [
    "For this part of the program we are setting up all of our data/variables that will be affected during the simulation. If you execute the block above you will be asked to fill in info for starting launch angle and speed. It will not take everything in until you enter in for those two values, for they are crucial to our process. We cant launch our mortal without having a select speed and angle!"
   ]
  },
  {
   "cell_type": "code",
   "execution_count": 3,
   "metadata": {},
   "outputs": [],
   "source": [
    "#initialize arrays for storing data\n",
    "tarr = np.zeros(Nsteps)\n",
    "xarray = np.zeros(Nsteps)\n",
    "yarray = np.zeros(Nsteps)\n",
    "zarray = np.zeros(Nsteps)\n",
    "vxarray = np.zeros(Nsteps)\n",
    "vyarray = np.zeros(Nsteps)\n",
    "vzarray = np.zeros(Nsteps)\n",
    "\n",
    "#store initial values at t = 0\n",
    "tarr[0] = t\n",
    "xarray[0] = data[0]\n",
    "yarray[0] = data[1]\n",
    "zarray[0] = data[2]\n",
    "vxarray[0] = data[3]\n",
    "vyarray[0] = data[4]\n",
    "vzarray[0] = data[5]"
   ]
  },
  {
   "cell_type": "markdown",
   "metadata": {},
   "source": [
    "In this block we are just setting up our arrays for all of our dependent variables for whenever we start the simulation."
   ]
  },
  {
   "cell_type": "code",
   "execution_count": 4,
   "metadata": {},
   "outputs": [],
   "source": [
    "def velchange(d, tn):\n",
    "    # d is an array of values of dependent variables\n",
    "    # tn is the time at the beginning of this time step\n",
    "    # return: an array of first-order ODEs corresponding to each variable\n",
    "    \n",
    "    x = d[0]\n",
    "    y = d[1]\n",
    "    z = d[2]\n",
    "    vx = d[3]\n",
    "    vy = d[4]\n",
    "    vz = d[5]\n",
    "\n",
    "    rate = np.zeros(6)\n",
    "    s = np.sqrt(vx**2 + vy**2 + vz**2)\n",
    "\n",
    "    rate[0] = vx\n",
    "    rate[1] = vy\n",
    "    rate[2] = vz\n",
    "    rate[3] = (-b2*s*vx)/m #calculating force in the x direction with wind resistence\n",
    "    rate[4] = (-b2*s*vy-m*g)/m #calculation force in the y direction with wind resistence and gravity\n",
    "    rate[5] = 0/m\n",
    "\n",
    "    return rate"
   ]
  },
  {
   "cell_type": "markdown",
   "metadata": {},
   "source": [
    "This is the bread to our ode solving butter! Without the setup formulas, we would not be able to figure out our dependent variables with such presicion! Once we execute this block of code we are ready to move onto the simulation loop."
   ]
  },
  {
   "cell_type": "code",
   "execution_count": 5,
   "metadata": {},
   "outputs": [],
   "source": [
    "#iterate\n",
    "for n in range(0,Nsteps-1):\n",
    "    \n",
    "    # update data\n",
    "    data = ode.RK4(velchange, data, t, h)\n",
    "    \n",
    "    # update time\n",
    "    t = t + h\n",
    "    \n",
    "    #store values\n",
    "    tarr[n+1] = t\n",
    "    xarray[n+1] = data[0]\n",
    "    yarray[n+1] = data[1]\n",
    "    zarray[n+1] = data[2]\n",
    "    vxarray[n+1] = data[3]\n",
    "    vyarray[n+1] = data[4]\n",
    "    vzarray[n+1] = data[5]"
   ]
  },
  {
   "cell_type": "markdown",
   "metadata": {},
   "source": [
    "You might be suprised, but this is all we do for our loop for the simulation! We are using a premade RK4 solver that we made in class to solve for our formulas made in the velchange function then after the calulation we store the new value in the arrays we created and then we just loop for the amount of time we set. Once the loop finishes it's calculations we are then ready to display our results!!"
   ]
  },
  {
   "cell_type": "markdown",
   "metadata": {},
   "source": [
    "### Results"
   ]
  },
  {
   "cell_type": "code",
   "execution_count": 6,
   "metadata": {},
   "outputs": [
    {
     "data": {
      "image/png": "[encoded data removed]",
      "text/plain": [
       "<Figure size 432x288 with 1 Axes>"
      ]
     },
     "metadata": {
      "needs_background": "light"
     },
     "output_type": "display_data"
    }
   ],
   "source": [
    "fig = plt.figure()\n",
    "plt.title(\"Mortar Launch Velocity\")\n",
    "plt.plot(tarr,vxarray, 'g-', label='X-Velocity')\n",
    "plt.plot(tarr,vyarray, 'm-', label='Y-Velocity')\n",
    "plt.plot(tarr,vzarray, 'y-', label='Z-Velocity')\n",
    "plt.xlabel('t (s)')\n",
    "plt.ylabel('v (m/s)')\n",
    "plt.legend()\n",
    "plt.show()"
   ]
  },
  {
   "cell_type": "markdown",
   "metadata": {},
   "source": [
    "This is where we get our first set of results printed out for our velocity values in the X,Y and yes even Z axis!"
   ]
  },
  {
   "cell_type": "code",
   "execution_count": 7,
   "metadata": {},
   "outputs": [
    {
     "data": {
      "image/png": "[encoded data removed]",
      "text/plain": [
       "<Figure size 432x288 with 1 Axes>"
      ]
     },
     "metadata": {
      "needs_background": "light"
     },
     "output_type": "display_data"
    }
   ],
   "source": [
    "fig2 = plt.figure()\n",
    "plt.title(\"Mortar Launch Position\")\n",
    "plt.plot(tarr,xarray, 'g-', label='X-Position')\n",
    "plt.plot(tarr,yarray, 'm-', label='Y-Position')\n",
    "plt.plot(tarr,zarray, 'y-', label='Z-Position')\n",
    "plt.xlabel('t (s)')\n",
    "plt.ylabel('p (m)')\n",
    "plt.ylim(bottom=0)\n",
    "plt.legend()\n",
    "plt.show()"
   ]
  },
  {
   "cell_type": "markdown",
   "metadata": {},
   "source": [
    "AND THIS is where we get our second graph displaying our position values in the X,Y, and Z axis!"
   ]
  }
 ],
 "metadata": {
  "kernelspec": {
   "display_name": "Python 3",
   "language": "python",
   "name": "python3"
  },
  "language_info": {
   "codemirror_mode": {
    "name": "ipython",
    "version": 3
   },
   "file_extension": ".py",
   "mimetype": "text/x-python",
   "name": "python",
   "nbconvert_exporter": "python",
   "pygments_lexer": "ipython3",
   "version": "3.8.5"
  }
 },
 "nbformat": 4,
 "nbformat_minor": 4
}
