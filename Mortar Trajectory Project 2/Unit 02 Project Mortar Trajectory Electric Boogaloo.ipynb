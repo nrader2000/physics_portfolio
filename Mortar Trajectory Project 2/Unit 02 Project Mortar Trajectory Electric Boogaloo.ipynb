{
 "cells": [
  {
   "cell_type": "markdown",
   "metadata": {},
   "source": [
    "# Unit 02 Project: Mortar Trajectory Electric Boogaloo"
   ]
  },
  {
   "cell_type": "markdown",
   "metadata": {},
   "source": [
    "For our third project this semester, I decided to model Mortar Trajectory again but with a bit more realistic physics involved since we leanred how to better visualize drag and the magnus effect. I used ODE solvers as well as the magnus effect to determine the trajectory of the mortar in each time step from its launch. The user of the program will also have the choice to change the starting speed as well as the angle on launch, as well as the new variable Spinrate!"
   ]
  },
  {
   "cell_type": "markdown",
   "metadata": {},
   "source": [
    "### The Question:"
   ]
  },
  {
   "cell_type": "markdown",
   "metadata": {},
   "source": [
    "To make things more interesting, I wanted to incoorperate this mortar launching on a more fictional scale as well as a more realistic scale. To fill you in, there's video game I really enjoy called Mass Effect(you may know this). Basically the game is an RPG that involves galactic travel. One of the planents you can explore is known as Tuchanka and I really like this planet. So my question is, **how different would the physics/the trajectory be on the planet of Tuchanka?**  "
   ]
  },
  {
   "cell_type": "markdown",
   "metadata": {},
   "source": [
    "To answer this question, we need to know a couple of things:"
   ]
  },
  {
   "cell_type": "markdown",
   "metadata": {},
   "source": [
    "- According to Mass Effect Wiki, Tuchanka's gravity is **1.14*g** so instead of using earth's gravity we will be using a new variable \"tg\" which will be..."
   ]
  },
  {
   "cell_type": "markdown",
   "metadata": {},
   "source": [
    "- tg= g * 1.14"
   ]
  },
  {
   "cell_type": "markdown",
   "metadata": {},
   "source": [
    "where g is the gravitational constant of earth"
   ]
  },
  {
   "cell_type": "markdown",
   "metadata": {},
   "source": [
    "- Tuchanka's atm pressure is 1.1 atm while Earth's atm pressure is 1 atm"
   ]
  },
  {
   "cell_type": "markdown",
   "metadata": {},
   "source": [
    "- The surface temp of Tuchanka is 72 degrees Celcius, while Earth's surface temp is 15 degress Celcius"
   ]
  },
  {
   "cell_type": "markdown",
   "metadata": {},
   "source": [
    "These two will be factors for Tuchanka's Air Density:"
   ]
  },
  {
   "cell_type": "markdown",
   "metadata": {},
   "source": [
    "Now **Assuming** that Tuchanka has the same composition of it's atmosphre than Earth and that Tuchanka is a rather Dry place(therefore dry air) with our findings the Air Density of Tuchanka is... "
   ]
  },
  {
   "cell_type": "markdown",
   "metadata": {},
   "source": [
    "**1.12497 kg/m^3** (this was solved on an online calculator)"
   ]
  },
  {
   "cell_type": "markdown",
   "metadata": {},
   "source": [
    "#### For my ODE's, I am using these 3 to solve for the linear motion of the mortars's X and Y and Z positions and velocites."
   ]
  },
  {
   "cell_type": "markdown",
   "metadata": {},
   "source": [
    "$$\\frac{dx}{dt} = v_x \\qquad \\frac{dy}{dt} = v_y \\qquad \\frac{dz}{dt} = v_z$$\n",
    "\n",
    "$$\\frac{d v_x}{dt} = \\frac{F_{net,x}}{m} \\qquad \\frac{d v_y}{dt} = \\frac{F_{net,y}}{m} \\qquad \\frac{d v_y}{dt} = \\frac{F_{net,y}}{m}$$"
   ]
  },
  {
   "cell_type": "markdown",
   "metadata": {},
   "source": [
    "Since I am now modeling our trajectory with Drag, I decided to go the same route as my professor Dr.Titus and have the three cases:"
   ]
  },
  {
   "cell_type": "markdown",
   "metadata": {},
   "source": [
    "- case=0 #no air\n",
    "- case=1 #C_d is constant and equal to 0.5\n",
    "- case=2 #C_d depends on speed"
   ]
  },
  {
   "cell_type": "markdown",
   "metadata": {},
   "source": [
    "Finally, since i'm also implementing the Magnus Effect, I got to add in all new variables(spinrate,omega,alpha,etc.). Again, credit goes to Dr.Titus for showing us how these formulas work with implementing the Magnus Effect."
   ]
  },
  {
   "cell_type": "markdown",
   "metadata": {},
   "source": [
    "#### He showed us various formulas such as:"
   ]
  },
  {
   "cell_type": "markdown",
   "metadata": {},
   "source": [
    "- $$S = \\frac{r\\omega}{v}$$"
   ]
  },
  {
   "cell_type": "markdown",
   "metadata": {},
   "source": [
    "- $$\\vec{F}_{magnus} = \\frac{1}{2}C_L \\frac{\\rho A r}{S} \\vec{\\omega} \\times \\vec{v}$$"
   ]
  },
  {
   "cell_type": "markdown",
   "metadata": {},
   "source": [
    "- $$C_L = 0.62S^{0.7}$$"
   ]
  },
  {
   "cell_type": "markdown",
   "metadata": {},
   "source": [
    "All of these are being used to implement and model the Magnus Effect! Now lets get on to the code!"
   ]
  },
  {
   "cell_type": "markdown",
   "metadata": {},
   "source": [
    "## The Code"
   ]
  },
  {
   "cell_type": "markdown",
   "metadata": {},
   "source": [
    "*P.S: All markdown pieces of text describe the block of code above them* "
   ]
  },
  {
   "cell_type": "markdown",
   "metadata": {},
   "source": [
    "**Reference: A good amount of this code was made by Dr.Titus**. My unique contibutions to this program are the launche's interactivity as well as the addition to the launch being on the planet Tuchanka from Mass Effect."
   ]
  },
  {
   "cell_type": "code",
   "execution_count": 2,
   "metadata": {},
   "outputs": [],
   "source": [
    "import compy.ode as ode\n",
    "#import ode #incase compy.ode does not work for your computer \n",
    "import numpy as np\n",
    "import matplotlib.pyplot as plt"
   ]
  },
  {
   "cell_type": "markdown",
   "metadata": {},
   "source": [
    "Again here are our import statements, we would not be able to preform half of these functions without these lines. Ensure that all of these packages are installed or else this will not run properly."
   ]
  },
  {
   "cell_type": "code",
   "execution_count": 3,
   "metadata": {},
   "outputs": [],
   "source": [
    "#Quality of Life Functions\n",
    "def mag(v):\n",
    "    #calculate magnitude of an array\n",
    "    return np.sqrt(np.dot(v,v))\n",
    "\n",
    "def hat(v):\n",
    "    #calculate unit vector of an array\n",
    "    return v/mag(v)\n",
    "\n",
    "def cross(v1,v2):\n",
    "    #calculate the cross product of two vectors\n",
    "    return np.cross(v1,v2)"
   ]
  },
  {
   "cell_type": "markdown",
   "metadata": {},
   "source": [
    "Here are some quality of life functions that will help us preform our calculations"
   ]
  },
  {
   "cell_type": "code",
   "execution_count": 4,
   "metadata": {},
   "outputs": [],
   "source": [
    "#Function to change Cd during trajectory calculations\n",
    "def getCd(v):\n",
    "    # calculate value of drag coefficient for a particular speed and case\n",
    "\n",
    "    if case == 0:\n",
    "        Cd = 0\n",
    "    elif case == 1:\n",
    "        Cd = 0.7\n",
    "    elif case == 2:\n",
    "        a = 0.36\n",
    "        b = 0.14\n",
    "        c = 0.27\n",
    "        vc = 34\n",
    "        chi = (v - vc)/4\n",
    "        if chi < 0:\n",
    "            Cd = a + b/(1+np.exp(chi)) - c*np.exp(-chi**2)\n",
    "        else:\n",
    "            Cd = a + b/(1+np.exp(chi)) - c*np.exp(-chi**2/4)\n",
    "    else:\n",
    "        Cd = 0.7\n",
    "    \n",
    "    return Cd"
   ]
  },
  {
   "cell_type": "markdown",
   "metadata": {},
   "source": [
    "This function will help us define our drag for our different cases. While our first two cases are directly defined our third case is dependent on our speed so thats  why we pass vmag into this function. "
   ]
  },
  {
   "cell_type": "code",
   "execution_count": 5,
   "metadata": {},
   "outputs": [],
   "source": [
    "#Function to model our trajectory array with Magnus Effect before running the simulation.\n",
    "def model_magnus(d, tn):\n",
    "    #return array of derivatives\n",
    "        \n",
    "    #data\n",
    "    x = d[0]\n",
    "    y = d[1]\n",
    "    z = d[2]  \n",
    "    vx = d[3]\n",
    "    vy = d[4]\n",
    "    vz = d[5]\n",
    "    \n",
    "    #derivatives\n",
    "    rate = np.zeros(6) #derivatives\n",
    "    rate[0] = vx\n",
    "    rate[1] = vy\n",
    "    rate[2] = vz\n",
    "    \n",
    "    #speed\n",
    "    v = np.array([vx,vy,vz])\n",
    "    vmag = mag(v)\n",
    "    \n",
    "    #calculate force and dv/dt\n",
    "    Cd=getCd(vmag)\n",
    "    b2 = 1/2*Cd*rho*A\n",
    "    \n",
    "    S = r*omegamag/vmag\n",
    "    CL = 0.62*S**0.7\n",
    "    alpha = 1/2*CL*rho*A*r/S\n",
    "    \n",
    "    FM = alpha*cross(omega,v) #magnus force\n",
    "    \n",
    "    rate[3] = -b2*vmag*vx/m + FM[0]/m\n",
    "    rate[4] = (-b2*vmag*vy - m*g)/m + FM[1]/m\n",
    "    rate[5] = (-b2*vmag*vz)/m  + FM[2]/m\n",
    "    \n",
    "    return rate\n"
   ]
  },
  {
   "cell_type": "markdown",
   "metadata": {},
   "source": [
    "This function is where we use all of our new variables and functions to model our magnus effect and how it'll play a part in our trajectory when the simulation is run."
   ]
  },
  {
   "cell_type": "code",
   "execution_count": 6,
   "metadata": {},
   "outputs": [],
   "source": [
    "#simulation with magnus effect\n",
    "def run_magnus(data): # run simulation with case integer\n",
    "    global b2, alpha #need to change the value of b2 and alpha\n",
    "    \n",
    "    v = data[3:6]\n",
    "    vmag = mag(v)\n",
    "\n",
    "    #time\n",
    "    t = 0\n",
    "    h= 0.01\n",
    "    Nsteps = int(60/h) #simulation goes for 60 seconds\n",
    "\n",
    "    #store trajectory for plotting or animation\n",
    "    traj = np.zeros((Nsteps, 4)) #store t, x, y, z for plotting\n",
    "    traj[0,:] = np.array([t, x0, y0, z0]) #store initial time and position\n",
    "\n",
    "    for n in range(0,Nsteps-1):\n",
    "\n",
    "        #update data\n",
    "        data = ode.RK4(model_magnus, data, t, h )\n",
    "\n",
    "        #update t\n",
    "        t = t + h\n",
    "\n",
    "        #store data for plotting\n",
    "        traj[n+1,:] = np.array([t, data[0], data[1], data[2]])\n",
    "    \n",
    "    return traj\n",
    "\n"
   ]
  },
  {
   "cell_type": "markdown",
   "metadata": {},
   "source": [
    "This function is our simulation, it uses what was gathered from the model_magnus function and solves the formulas with the given information in a RK4 method for precise modeling."
   ]
  },
  {
   "cell_type": "code",
   "execution_count": 7,
   "metadata": {},
   "outputs": [
    {
     "name": "stdout",
     "output_type": "stream",
     "text": [
      "Enter an angle of launch(will be comverted to Radians): 45\n",
      "Enter a launch speed(will be converted to m/s): 100\n",
      "Enter a spinrate for mortar trajectory: 10\n"
     ]
    }
   ],
   "source": [
    "#independent variables/parameters passed\n",
    "m = 20 #mass of mortar(kg)\n",
    "g = 9.8 #N/kg gravity by earth\n",
    "tg = g*1.14 #N/kg gravity by Tuchanka\n",
    "Cd = 0.7 #drag coefficeint for mortar\n",
    "r = (81e-3)/2 #81 mm radius for presicion mortar\n",
    "A = np.pi*r**2 #area of mortar \n",
    "rho = 1.2 #kg/m^3\n",
    "trho = 1.12497 #kg/m^3 air density on Tuchanka\n",
    "b2 = 1/2*Cd*rho*A #drag with wind resistance\n",
    "tb2 = 1/2*Cd*trho*A #drag with wind resistance on Tuchanka\n",
    "S = 0.01 #value will change as omega and v change\n",
    "CL = 0 #value will change with S\n",
    "alpha = 1/2*CL*rho*A*r/S \n",
    "talpha = 1/2*CL*trho*A*r/S #alpha on Tuchanka\n",
    "\n",
    "#Data entry for Mortar Launch\n",
    "thetadeg = input(\"Enter an angle of launch(will be comverted to Radians): \") #enter initial launch angle\n",
    "theta0 = int(thetadeg)*(np.pi/180) #convert to radians\n",
    "\n",
    "vmag0mph = input(\"Enter a launch speed(will be converted to m/s): \") #enter initial launch speed\n",
    "vmag0 = int(vmag0mph) * 0.44704 #convert to m/s\n",
    "\n",
    "spinrate = input(\"Enter a spinrate for mortar trajectory: \") #enter initial spinrate\n"
   ]
  },
  {
   "cell_type": "markdown",
   "metadata": {},
   "source": [
    "This is where all of our independent variables lie. Some of these variables(like CL) will change as the simulation goes on, and that is to help us gain the information about the trajectory of our mortar. **For this simulation we are going to make the assumption that the mortars used are smooth as can be.** We also have our interactivity where we input our values! "
   ]
  },
  {
   "cell_type": "code",
   "execution_count": 8,
   "metadata": {},
   "outputs": [],
   "source": [
    "#dependent variables\n",
    "x0 = 0 #initial x pos of mortar\n",
    "vx0 = vmag0*np.cos(theta0) #initial x vel of mortar\n",
    "y0 = 0 #y pos of mortar during initial launch\n",
    "vy0 = vmag0*np.sin(theta0)\n",
    "z0 = 0\n",
    "vz0 = 0\n",
    "\n",
    "#omega\n",
    "omegamag = int(spinrate)*2*np.pi/60\n",
    "omega = np.array([0,0,omegamag])\n",
    "\n",
    "#array for velocity and position data\n",
    "d = np.array([x0,y0,z0,vx0,vy0,vz0]) #initialize dependent variables"
   ]
  },
  {
   "cell_type": "markdown",
   "metadata": {},
   "source": [
    "This is the main information that will be plotted into our trajectory models."
   ]
  },
  {
   "cell_type": "code",
   "execution_count": 9,
   "metadata": {},
   "outputs": [
    {
     "data": {
      "image/png": "[encoded data removed]",
      "text/plain": [
       "<Figure size 864x432 with 1 Axes>"
      ]
     },
     "metadata": {
      "needs_background": "light"
     },
     "output_type": "display_data"
    },
    {
     "name": "stdout",
     "output_type": "stream",
     "text": [
      "Cd=0: range = 204 m = 669 ft. \n",
      "Cd=5: range = 200 m = 658 ft. \n",
      "Variable Cd: range = 203 m = 665 ft. \n"
     ]
    }
   ],
   "source": [
    "#run models\n",
    "case = 0 #no air\n",
    "traj = run_magnus(d)\n",
    "traj0 = traj[traj[:,2]>=0] #get trajectory data with y>=0\n",
    "\n",
    "case = 1 #Cd is constant\n",
    "traj = run_magnus(d)\n",
    "traj1 = traj[traj[:,2]>=0] #get trajectory data with y>=0\n",
    "\n",
    "case = 2\n",
    "traj = run_magnus(d)\n",
    "traj2 = traj[traj[:,2]>=0] #get trajectory data with y>=0\n",
    "\n",
    "#plot data\n",
    "fig = plt.figure(figsize=(12,6))\n",
    "plt.title(\"Mortar Trajectory with Magnus Effect on Earth\")\n",
    "plt.plot(traj0[:,1], traj0[:,2], 'b.', label='$C_d=0$')\n",
    "plt.plot(traj1[:,1], traj1[:,2], 'm.', label='$C_d=0.5$')\n",
    "plt.plot(traj2[:,1], traj2[:,2], 'g.', label='speed-dependent $C_d$')\n",
    "plt.xlabel('x (m)')\n",
    "plt.ylabel('y (m)')\n",
    "plt.legend()\n",
    "plt.show()\n",
    "\n",
    "range0 = traj0[-1,1]\n",
    "range1 = traj1[-1,1]\n",
    "range2 = traj2[-1,1]\n",
    "\n",
    "print(\"Cd=0: range = {:.0f} m = {:.0f} ft. \".format(range0, range0*3.28084))\n",
    "print(\"Cd=5: range = {:.0f} m = {:.0f} ft. \".format(range1, range1*3.28084))\n",
    "print(\"Variable Cd: range = {:.0f} m = {:.0f} ft. \".format(range2, range2*3.28084))"
   ]
  },
  {
   "cell_type": "markdown",
   "metadata": {},
   "source": [
    "### Now lets run this same thing but on Tuchanka!"
   ]
  },
  {
   "cell_type": "code",
   "execution_count": 10,
   "metadata": {},
   "outputs": [],
   "source": [
    "#Function to model our trajectory array with Magnus Effect before running the simulation.\n",
    "def model_magnus_tuchanka(d, tn):\n",
    "    #return array of derivatives\n",
    "        \n",
    "    #data\n",
    "    x = d[0]\n",
    "    y = d[1]\n",
    "    z = d[2]  \n",
    "    vx = d[3]\n",
    "    vy = d[4]\n",
    "    vz = d[5]\n",
    "    \n",
    "    #derivatives\n",
    "    rate = np.zeros(6) #derivatives\n",
    "    rate[0] = vx\n",
    "    rate[1] = vy\n",
    "    rate[2] = vz\n",
    "    \n",
    "    #speed\n",
    "    v = np.array([vx,vy,vz])\n",
    "    vmag = mag(v)\n",
    "    \n",
    "    #calculate force and dv/dt\n",
    "    Cd=getCd(vmag)\n",
    "    b2 = 1/2*Cd*trho*A\n",
    "    \n",
    "    S = r*omegamag/vmag\n",
    "    CL = 0.62*S**0.7\n",
    "    alpha = 1/2*CL*trho*A*r/S\n",
    "    \n",
    "    FM = alpha*cross(omega,v) #magnus force\n",
    "    \n",
    "    rate[3] = -b2*vmag*vx/m + FM[0]/m\n",
    "    rate[4] = (-b2*vmag*vy - m*tg)/m + FM[1]/m\n",
    "    rate[5] = (-b2*vmag*vz)/m  + FM[2]/m\n",
    "    \n",
    "    return rate\n"
   ]
  },
  {
   "cell_type": "markdown",
   "metadata": {},
   "source": [
    "I decided to make the same functions but with new variables that are fitting for the planet of Tuchanka. Remeber that Air Density and Gravity have changed a bit."
   ]
  },
  {
   "cell_type": "code",
   "execution_count": 11,
   "metadata": {},
   "outputs": [],
   "source": [
    "#simulation with magnus effect\n",
    "def run_magnus_tuchanka(data): # run simulation with case integer\n",
    "    global b2, talpha #need to change the value of b2 and talpha\n",
    "    \n",
    "    v = data[3:6]\n",
    "    vmag = mag(v)\n",
    "\n",
    "    #time\n",
    "    t = 0\n",
    "    h= 0.01\n",
    "    Nsteps = int(30/h) #simulation goes for 30 seconds\n",
    "\n",
    "    #store trajectory for plotting or animation\n",
    "    traj = np.zeros((Nsteps, 4)) #store t, x, y, z for plotting\n",
    "    traj[0,:] = np.array([t, x0, y0, z0]) #store initial time and position\n",
    "\n",
    "    for n in range(0,Nsteps-1):\n",
    "\n",
    "        #update data\n",
    "        data = ode.RK4(model_magnus_tuchanka, data, t, h )\n",
    "\n",
    "        #update t\n",
    "        t = t + h\n",
    "\n",
    "        #store data for plotting\n",
    "        traj[n+1,:] = np.array([t, data[0], data[1], data[2]])\n",
    "    \n",
    "    return traj\n",
    "\n"
   ]
  },
  {
   "cell_type": "code",
   "execution_count": 12,
   "metadata": {},
   "outputs": [
    {
     "data": {
      "image/png": "[encoded data removed]",
      "text/plain": [
       "<Figure size 864x432 with 1 Axes>"
      ]
     },
     "metadata": {
      "needs_background": "light"
     },
     "output_type": "display_data"
    },
    {
     "name": "stdout",
     "output_type": "stream",
     "text": [
      "Cd=0: range = 179 m = 586 ft. \n",
      "Cd=5: range = 176 m = 578 ft. \n",
      "Variable Cd: range = 178 m = 584 ft. \n"
     ]
    }
   ],
   "source": [
    "#run models\n",
    "case = 0 #no air\n",
    "traj = run_magnus_tuchanka(d)\n",
    "traj3 = traj[traj[:,2]>=0] #get trajectory data with y>=0\n",
    "\n",
    "case = 1 #Cd is constant\n",
    "traj = run_magnus_tuchanka(d)\n",
    "traj4 = traj[traj[:,2]>=0] #get trajectory data with y>=0\n",
    "\n",
    "case = 2\n",
    "traj = run_magnus_tuchanka(d)\n",
    "traj5 = traj[traj[:,2]>=0] #get trajectory data with y>=0\n",
    "\n",
    "#plot data\n",
    "fig = plt.figure(figsize=(12,6))\n",
    "plt.title(\"Mortar Trajectory with Magnus Effect on Tuchanka\")\n",
    "plt.plot(traj3[:,1], traj3[:,2], 'b.', label='$C_d=0$')\n",
    "plt.plot(traj4[:,1], traj4[:,2], 'm.', label='$C_d=0.5$')\n",
    "plt.plot(traj5[:,1], traj5[:,2], 'g.', label='speed-dependent $C_d$')\n",
    "plt.xlabel('x (m)')\n",
    "plt.ylabel('y (m)')\n",
    "plt.legend()\n",
    "plt.show()\n",
    "\n",
    "range0 = traj3[-1,1]\n",
    "range1 = traj4[-1,1]\n",
    "range2 = traj5[-1,1]\n",
    "\n",
    "print(\"Cd=0: range = {:.0f} m = {:.0f} ft. \".format(range0, range0*3.28084))\n",
    "print(\"Cd=5: range = {:.0f} m = {:.0f} ft. \".format(range1, range1*3.28084))\n",
    "print(\"Variable Cd: range = {:.0f} m = {:.0f} ft. \".format(range2, range2*3.28084))"
   ]
  },
  {
   "cell_type": "markdown",
   "metadata": {},
   "source": [
    "### Results:"
   ]
  },
  {
   "cell_type": "markdown",
   "metadata": {},
   "source": [
    "With these results, when you enter the same information we have found out that the mortar launches futher on Earth than on Tuchanka. This is likely because of the slight difference in the air density, but it's more likely because of the greater amount gravity on Tuchanka! How cool is that, we managed so get some realistic results from a fictional planet!"
   ]
  },
  {
   "cell_type": "markdown",
   "metadata": {},
   "source": [
    "### Validation of Results:"
   ]
  },
  {
   "cell_type": "code",
   "execution_count": 13,
   "metadata": {
    "scrolled": false
   },
   "outputs": [
    {
     "data": {
      "image/png": "[encoded data removed]",
      "text/plain": [
       "<Figure size 864x432 with 1 Axes>"
      ]
     },
     "metadata": {
      "needs_background": "light"
     },
     "output_type": "display_data"
    },
    {
     "name": "stdout",
     "output_type": "stream",
     "text": [
      "Variable Cd on Earth: range = 203 m = 665 ft. \n",
      "Variable Cd on Tuchanka: range = 178 m = 584 ft. \n"
     ]
    }
   ],
   "source": [
    "fig = plt.figure(figsize=(12,6))\n",
    "plt.title(\"Speed Dependent Drag Mortar Launch Comparison\")\n",
    "plt.plot(traj2[:,1], traj2[:,2], 'b.', label='Earth speed-dependent $C_d$')\n",
    "plt.plot(traj5[:,1], traj5[:,2], 'r.', label='Tuchanka speed-dependent $C_d$')\n",
    "plt.xlabel('x (m)')\n",
    "plt.ylabel('y (m)')\n",
    "plt.legend()\n",
    "plt.show()\n",
    "\n",
    "range1 = traj2[-1,1]\n",
    "range2 = traj5[-1,1]\n",
    "\n",
    "print(\"Variable Cd on Earth: range = {:.0f} m = {:.0f} ft. \".format(range1, range1*3.28084))\n",
    "print(\"Variable Cd on Tuchanka: range = {:.0f} m = {:.0f} ft. \".format(range2, range2*3.28084))"
   ]
  },
  {
   "cell_type": "code",
   "execution_count": null,
   "metadata": {},
   "outputs": [],
   "source": []
  }
 ],
 "metadata": {
  "kernelspec": {
   "display_name": "Python 3",
   "language": "python",
   "name": "python3"
  },
  "language_info": {
   "codemirror_mode": {
    "name": "ipython",
    "version": 3
   },
   "file_extension": ".py",
   "mimetype": "text/x-python",
   "name": "python",
   "nbconvert_exporter": "python",
   "pygments_lexer": "ipython3",
   "version": "3.8.5"
  }
 },
 "nbformat": 4,
 "nbformat_minor": 4
}
